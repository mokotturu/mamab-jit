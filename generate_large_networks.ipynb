{
	"cells": [
		{
			"cell_type": "code",
			"execution_count": 1,
			"metadata": {},
			"outputs": [],
			"source": [
				"import matplotlib.pyplot as plt\n",
				"import numpy as np\n",
				"import networkx as nx\n",
				"import pydot\n",
				"from networkx.drawing.nx_pydot import graphviz_layout\n",
				"from scipy.sparse.csgraph import laplacian\n",
				"from graph_optimization import fdla_weights_symmetric, fmmc_weights, lmsc_weights, fastest_averaging_constant_weight, max_degree_weights, metropolis_hastings_weights"
			]
		},
		{
			"cell_type": "code",
			"execution_count": 2,
			"metadata": {},
			"outputs": [],
			"source": [
				"def generateP(A, kappa):\n",
				"\tdmax = np.max(np.sum(A, axis=0))\n",
				"\tL = laplacian(A, normed=False)\n",
				"\tM, _ = np.shape(A)\n",
				"\tI = np.eye(M)\n",
				"\n",
				"\tP = I - (kappa/dmax) * L\n",
				"\n",
				"\treturn P, get_rho(P)\n",
				"\n",
				"def get_rho(P):\n",
				"\tn = P.shape[0]\n",
				"\t_P = P - np.ones((n, n)) * (1/n)\n",
				"\tl = np.abs(np.linalg.eigvals(_P))\n",
				"\tl = l[1 - l > 1e-5]\n",
				"\treturn np.max(l)"
			]
		},
		{
			"cell_type": "code",
			"execution_count": 3,
			"metadata": {},
			"outputs": [],
			"source": [
				"COLORS = [\n",
				"\t'tab:blue',\n",
				"\t'tab:orange',\n",
				"\t'tab:green',\n",
				"\t'tab:red',\n",
				"\t'tab:purple',\n",
				"\t'tab:brown',\n",
				"\t'tab:pink',\n",
				"\t'tab:gray',\n",
				"\t'tab:olive',\n",
				"\t'tab:cyan',\n",
				"]"
			]
		},
		{
			"cell_type": "code",
			"execution_count": 4,
			"metadata": {},
			"outputs": [
				{
					"name": "stdout",
					"output_type": "stream",
					"text": [
						"Nodes:  4\n",
						"Edges:  3\n",
						"Is connected:  True\n"
					]
				},
				{
					"data": {
						"image/png": "[encoded data removed]",
						"text/plain": [
							"<Figure size 640x480 with 1 Axes>"
						]
					},
					"metadata": {},
					"output_type": "display_data"
				}
			],
			"source": [
				"seeds = [80967431686, 29756843169]\n",
				"\n",
				"# incidence_matrix = np.asarray(nx.linalg.graphmatrix.incidence_matrix(nx.from_numpy_array(adjacency_matrix), oriented=True).todense())\n",
				"\n",
				"# # weight_matrix = np.array([\n",
				"# # \t[0.75, 0.25, 0.00, 0.00],\n",
				"# # \t[0.25, 0.25, 0.25, 0.25],\n",
				"# # \t[0.00, 0.25, 0.50, 0.25],\n",
				"# # \t[0.00, 0.25, 0.25, 0.50],\n",
				"# # ])\n",
				"\n",
				"# # weight_matrix = np.array([\n",
				"# # \t[0.80, 0.00, 0.20, 0.00, 0.00],\n",
				"# # \t[0.00, 0.80, 0.20, 0.00, 0.00],\n",
				"# # \t[0.20, 0.20, 0.20, 0.20, 0.20],\n",
				"# # \t[0.00, 0.00, 0.20, 0.60, 0.20],\n",
				"# # \t[0.00, 0.00, 0.20, 0.20, 0.60],\n",
				"# # ])\n",
				"\n",
				"# _, _, weight_matrix, _ = max_degree_weights(incidence_matrix)\n",
				"# weight_matrix = np.round(weight_matrix, 2)\n",
				"# G = nx.from_numpy_array(weight_matrix, create_using=nx.DiGraph)\n",
				"# G.remove_edges_from(nx.selfloop_edges(G))\n",
				"\n",
				"# # print(nx.is_connected(G))\n",
				"# nx.relabel_nodes(G, {idx: f'{idx + 1}: {weight_matrix[idx, idx]}' for idx in range(weight_matrix.shape[0])}, copy=False)\n",
				"# pos = nx.spring_layout(G)\n",
				"# # pos=nx.nx_pydot.graphviz_layout(G, prog='neato')\n",
				"# nx.draw(G, node_color=COLORS[:G.number_of_nodes()], node_size=2000, edgecolors=\"black\", pos=pos, with_labels=True)\n",
				"# nx.draw_networkx_edge_labels(G, pos, edge_labels=nx.get_edge_attributes(G, 'weight'))\n",
				"\n",
				"\n",
				"cluster_size = 10\n",
				"tails = 5\n",
				"G = nx.star_graph(3)\n",
				"# G.add_node(9)\n",
				"# G.add_edge(7, 9)\n",
				"# G.add_edge(8, 9)\n",
				"# for i in range(tails):\n",
				"# \tG.add_node(cluster_size + i)\n",
				"# \tG.add_edge(cluster_size + i - 1, cluster_size + i)\n",
				"\n",
				"print(\"Nodes: \", G.number_of_nodes())\n",
				"print(\"Edges: \", G.number_of_edges())\n",
				"print(\"Is connected: \", nx.is_connected(G))\n",
				"nx.draw(G)\n",
				"# save graph\n",
				"# np.save(f\"data/saved_networks/{cluster_size}_kite_long_{tails}_tail_adj.npy\", nx.to_numpy_array(G))\n",
				"# np.save(f\"data/saved_networks/{cluster_size}_kite_long_{tails}_tail_inc.npy\", np.asarray(nx.linalg.graphmatrix.incidence_matrix(G, oriented=True).todense()))\n",
				"# plt.savefig(f'data/img/networks/png/{cluster_size}_kite_long_{tails}_tail.png', format='png')\n",
				"# plt.savefig(f'data/img/networks/svg/{cluster_size}_kite_long_{tails}_tail.svg', format='svg')"
			]
		}
	],
	"metadata": {
		"kernelspec": {
			"display_name": "Python 3",
			"language": "python",
			"name": "python3"
		},
		"language_info": {
			"codemirror_mode": {
				"name": "ipython",
				"version": 3
			},
			"file_extension": ".py",
			"mimetype": "text/x-python",
			"name": "python",
			"nbconvert_exporter": "python",
			"pygments_lexer": "ipython3",
			"version": "3.10.12"
		},
		"orig_nbformat": 4,
		"vscode": {
			"interpreter": {
				"hash": "916dbcbb3f70747c44a77c7bcd40155683ae19c65e1c03b4aa3499c5328201f1"
			}
		}
	},
	"nbformat": 4,
	"nbformat_minor": 2
}
