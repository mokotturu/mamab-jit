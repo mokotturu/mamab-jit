{
 "cells": [
  {
   "cell_type": "code",
   "execution_count": 7,
   "metadata": {},
   "outputs": [],
   "source": [
    "import numpy as np\n",
    "import matplotlib.pyplot as plt\n",
    "import networkx as nx\n",
    "from numba import njit, prange\n",
    "import torch\n",
    "from graph_optimization import (fastest_averaging_constant_weight,\n",
    "                                fdla_weights_symmetric, fmmc_weights,\n",
    "                                lmsc_weights, max_degree_weights,\n",
    "                                metropolis_hastings_weights)"
   ]
  },
  {
   "cell_type": "code",
   "execution_count": 8,
   "metadata": {},
   "outputs": [],
   "source": [
    "np.set_printoptions(linewidth=np.inf, threshold=np.inf)"
   ]
  },
  {
   "cell_type": "code",
   "execution_count": 9,
   "metadata": {},
   "outputs": [],
   "source": [
    "W = np.array([\n",
    "\t[0, 0.33, 0, 0],\n",
    "\t[0.33, 0, 0.33, 0.33],\n",
    "\t[0, 0.33, 0, 0.66],\n",
    "\t[0, 0.33, 0.66, 0]\n",
    "])"
   ]
  },
  {
   "cell_type": "code",
   "execution_count": 10,
   "metadata": {},
   "outputs": [
    {
     "name": "stdout",
     "output_type": "stream",
     "text": [
      "[0.33 0.   0.   0.33 0.33 0.66]\n"
     ]
    }
   ],
   "source": [
    "iu = np.triu_indices(W.shape[0], 1)\n",
    "print(W[iu])"
   ]
  },
  {
   "cell_type": "code",
   "execution_count": 13,
   "metadata": {},
   "outputs": [
    {
     "name": "stdout",
     "output_type": "stream",
     "text": [
      "[[0.33 0.66 0.99 0.99]\n",
      " [0.   0.99 0.66 0.66]\n",
      " [0.33 0.66 0.99 0.33]\n",
      " [0.33 0.66 0.33 0.99]]\n"
     ]
    }
   ],
   "source": [
    "L = W @ np.ones(W.shape[0]) - W\n",
    "print(L)"
   ]
  },
  {
   "cell_type": "code",
   "execution_count": 16,
   "metadata": {},
   "outputs": [
    {
     "name": "stdout",
     "output_type": "stream",
     "text": [
      "W1 = Sw, find S\n",
      "W1\n",
      "[0.33 0.99 0.99 0.99]\n",
      "w\n",
      "[0.33 0.   0.   0.33 0.33 0.66]\n"
     ]
    }
   ],
   "source": [
    "print('W1 = Sw, find S')\n",
    "\n",
    "print('W1')\n",
    "print(W @ np.ones(W.shape[0]))\n",
    "print('w')\n",
    "w = W[iu]\n",
    "print(w)"
   ]
  },
  {
   "cell_type": "code",
   "execution_count": 21,
   "metadata": {},
   "outputs": [
    {
     "name": "stdout",
     "output_type": "stream",
     "text": [
      "[[1. 1. 0. 0. 0.]\n",
      " [1. 0. 1. 0. 0.]\n",
      " [1. 0. 0. 1. 0.]\n",
      " [1. 0. 0. 0. 1.]\n",
      " [0. 1. 1. 0. 0.]\n",
      " [0. 1. 0. 1. 0.]\n",
      " [0. 1. 0. 0. 1.]\n",
      " [0. 0. 1. 1. 0.]\n",
      " [0. 0. 1. 0. 1.]\n",
      " [0. 0. 0. 1. 1.]]\n"
     ]
    }
   ],
   "source": [
    "def calculate_S(n):\n",
    "\tupper_triangular_indices = np.triu_indices(n, k=1)\n",
    "\tS = np.zeros((n, len(upper_triangular_indices[0])))\n",
    "\tS[upper_triangular_indices[0], range(len(upper_triangular_indices[0]))] = 1\n",
    "\tS[upper_triangular_indices[1], range(len(upper_triangular_indices[0]))] = 1\n",
    "\treturn S\n",
    "\n",
    "print(calculate_S(5))"
   ]
  }
 ],
 "metadata": {
  "kernelspec": {
   "display_name": "venv",
   "language": "python",
   "name": "python3"
  },
  "language_info": {
   "codemirror_mode": {
    "name": "ipython",
    "version": 3
   },
   "file_extension": ".py",
   "mimetype": "text/x-python",
   "name": "python",
   "nbconvert_exporter": "python",
   "pygments_lexer": "ipython3",
   "version": "3.10.12"
  }
 },
 "nbformat": 4,
 "nbformat_minor": 2
}
